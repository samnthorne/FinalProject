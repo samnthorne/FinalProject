{
 "cells": [
  {
   "cell_type": "markdown",
   "id": "7e64eb2e-2df7-4411-aa55-8433d95ae09e",
   "metadata": {},
   "source": [
    "# STAT301 Final Project: Individual Assignment 1\n",
    "\n",
    "**Group:** 26\n",
    "\n",
    "**Group Member:** Sam Thorne 83910448"
   ]
  },
  {
   "cell_type": "markdown",
   "id": "f5fda021-1413-4370-9e37-ca140d07c558",
   "metadata": {},
   "source": [
    "## Vancouver Crime Report Dataset:\n",
    "\n",
    " [Kaggle](https://www.kaggle.com/datasets/agilesifaka/vancouver-crime-report/data). \n",
    " \n",
    " Talk about cutting it down and why we chose to cut it down. \n",
    " Talk about where the data came from (where it was collected)\n",
    " "
   ]
  },
  {
   "cell_type": "code",
   "execution_count": 34,
   "id": "3130b93f-df45-403f-8aba-bde991d2c091",
   "metadata": {
    "tags": []
   },
   "outputs": [],
   "source": [
    "library(tidyverse)"
   ]
  },
  {
   "cell_type": "code",
   "execution_count": 36,
   "id": "45a24993-8971-4d3c-8b67-f898d7d82bbe",
   "metadata": {
    "tags": [
     "hide-warning"
    ]
   },
   "outputs": [
    {
     "name": "stderr",
     "output_type": "stream",
     "text": [
      "\u001b[1mRows: \u001b[22m\u001b[34m68545\u001b[39m \u001b[1mColumns: \u001b[22m\u001b[34m10\u001b[39m\n",
      "\u001b[36m──\u001b[39m \u001b[1mColumn specification\u001b[22m \u001b[36m────────────────────────────────────────────────────────\u001b[39m\n",
      "\u001b[1mDelimiter:\u001b[22m \",\"\n",
      "\u001b[31mchr\u001b[39m (3): TYPE, HUNDRED_BLOCK, NEIGHBOURHOOD\n",
      "\u001b[32mdbl\u001b[39m (7): YEAR, MONTH, DAY, HOUR, MINUTE, X, Y\n",
      "\n",
      "\u001b[36mℹ\u001b[39m Use `spec()` to retrieve the full column specification for this data.\n",
      "\u001b[36mℹ\u001b[39m Specify the column types or set `show_col_types = FALSE` to quiet this message.\n"
     ]
    },
    {
     "data": {
      "text/html": [
       "<table class=\"dataframe\">\n",
       "<caption>A tibble: 6 × 10</caption>\n",
       "<thead>\n",
       "\t<tr><th scope=col>TYPE</th><th scope=col>YEAR</th><th scope=col>MONTH</th><th scope=col>DAY</th><th scope=col>HOUR</th><th scope=col>MINUTE</th><th scope=col>HUNDRED_BLOCK</th><th scope=col>NEIGHBOURHOOD</th><th scope=col>X</th><th scope=col>Y</th></tr>\n",
       "\t<tr><th scope=col>&lt;chr&gt;</th><th scope=col>&lt;dbl&gt;</th><th scope=col>&lt;dbl&gt;</th><th scope=col>&lt;dbl&gt;</th><th scope=col>&lt;dbl&gt;</th><th scope=col>&lt;dbl&gt;</th><th scope=col>&lt;chr&gt;</th><th scope=col>&lt;chr&gt;</th><th scope=col>&lt;dbl&gt;</th><th scope=col>&lt;dbl&gt;</th></tr>\n",
       "</thead>\n",
       "<tbody>\n",
       "\t<tr><td>Break and Enter Commercial</td><td>2019</td><td> 3</td><td> 7</td><td> 2</td><td> 6</td><td>10XX SITKA SQ  </td><td>Fairview</td><td>490613.0</td><td>5457110</td></tr>\n",
       "\t<tr><td>Break and Enter Commercial</td><td>2019</td><td> 8</td><td>27</td><td> 4</td><td>12</td><td>10XX ALBERNI ST</td><td>West End</td><td>491007.8</td><td>5459174</td></tr>\n",
       "\t<tr><td>Break and Enter Commercial</td><td>2014</td><td> 8</td><td> 8</td><td> 5</td><td>13</td><td>10XX ALBERNI ST</td><td>West End</td><td>491015.9</td><td>5459166</td></tr>\n",
       "\t<tr><td>Break and Enter Commercial</td><td>2014</td><td> 4</td><td>17</td><td> 5</td><td>50</td><td>10XX ALBERNI ST</td><td>West End</td><td>491032.3</td><td>5459150</td></tr>\n",
       "\t<tr><td>Break and Enter Commercial</td><td>2014</td><td> 9</td><td> 1</td><td>14</td><td>20</td><td>10XX ALBERNI ST</td><td>West End</td><td>491032.3</td><td>5459150</td></tr>\n",
       "\t<tr><td>Break and Enter Commercial</td><td>2014</td><td>11</td><td>22</td><td>23</td><td>28</td><td>10XX ALBERNI ST</td><td>West End</td><td>491059.5</td><td>5459122</td></tr>\n",
       "</tbody>\n",
       "</table>\n"
      ],
      "text/latex": [
       "A tibble: 6 × 10\n",
       "\\begin{tabular}{llllllllll}\n",
       " TYPE & YEAR & MONTH & DAY & HOUR & MINUTE & HUNDRED\\_BLOCK & NEIGHBOURHOOD & X & Y\\\\\n",
       " <chr> & <dbl> & <dbl> & <dbl> & <dbl> & <dbl> & <chr> & <chr> & <dbl> & <dbl>\\\\\n",
       "\\hline\n",
       "\t Break and Enter Commercial & 2019 &  3 &  7 &  2 &  6 & 10XX SITKA SQ   & Fairview & 490613.0 & 5457110\\\\\n",
       "\t Break and Enter Commercial & 2019 &  8 & 27 &  4 & 12 & 10XX ALBERNI ST & West End & 491007.8 & 5459174\\\\\n",
       "\t Break and Enter Commercial & 2014 &  8 &  8 &  5 & 13 & 10XX ALBERNI ST & West End & 491015.9 & 5459166\\\\\n",
       "\t Break and Enter Commercial & 2014 &  4 & 17 &  5 & 50 & 10XX ALBERNI ST & West End & 491032.3 & 5459150\\\\\n",
       "\t Break and Enter Commercial & 2014 &  9 &  1 & 14 & 20 & 10XX ALBERNI ST & West End & 491032.3 & 5459150\\\\\n",
       "\t Break and Enter Commercial & 2014 & 11 & 22 & 23 & 28 & 10XX ALBERNI ST & West End & 491059.5 & 5459122\\\\\n",
       "\\end{tabular}\n"
      ],
      "text/markdown": [
       "\n",
       "A tibble: 6 × 10\n",
       "\n",
       "| TYPE &lt;chr&gt; | YEAR &lt;dbl&gt; | MONTH &lt;dbl&gt; | DAY &lt;dbl&gt; | HOUR &lt;dbl&gt; | MINUTE &lt;dbl&gt; | HUNDRED_BLOCK &lt;chr&gt; | NEIGHBOURHOOD &lt;chr&gt; | X &lt;dbl&gt; | Y &lt;dbl&gt; |\n",
       "|---|---|---|---|---|---|---|---|---|---|\n",
       "| Break and Enter Commercial | 2019 |  3 |  7 |  2 |  6 | 10XX SITKA SQ   | Fairview | 490613.0 | 5457110 |\n",
       "| Break and Enter Commercial | 2019 |  8 | 27 |  4 | 12 | 10XX ALBERNI ST | West End | 491007.8 | 5459174 |\n",
       "| Break and Enter Commercial | 2014 |  8 |  8 |  5 | 13 | 10XX ALBERNI ST | West End | 491015.9 | 5459166 |\n",
       "| Break and Enter Commercial | 2014 |  4 | 17 |  5 | 50 | 10XX ALBERNI ST | West End | 491032.3 | 5459150 |\n",
       "| Break and Enter Commercial | 2014 |  9 |  1 | 14 | 20 | 10XX ALBERNI ST | West End | 491032.3 | 5459150 |\n",
       "| Break and Enter Commercial | 2014 | 11 | 22 | 23 | 28 | 10XX ALBERNI ST | West End | 491059.5 | 5459122 |\n",
       "\n"
      ],
      "text/plain": [
       "  TYPE                       YEAR MONTH DAY HOUR MINUTE HUNDRED_BLOCK  \n",
       "1 Break and Enter Commercial 2019  3     7   2    6     10XX SITKA SQ  \n",
       "2 Break and Enter Commercial 2019  8    27   4   12     10XX ALBERNI ST\n",
       "3 Break and Enter Commercial 2014  8     8   5   13     10XX ALBERNI ST\n",
       "4 Break and Enter Commercial 2014  4    17   5   50     10XX ALBERNI ST\n",
       "5 Break and Enter Commercial 2014  9     1  14   20     10XX ALBERNI ST\n",
       "6 Break and Enter Commercial 2014 11    22  23   28     10XX ALBERNI ST\n",
       "  NEIGHBOURHOOD X        Y      \n",
       "1 Fairview      490613.0 5457110\n",
       "2 West End      491007.8 5459174\n",
       "3 West End      491015.9 5459166\n",
       "4 West End      491032.3 5459150\n",
       "5 West End      491032.3 5459150\n",
       "6 West End      491059.5 5459122"
      ]
     },
     "metadata": {},
     "output_type": "display_data"
    }
   ],
   "source": [
    "data <- read_csv('https://raw.githubusercontent.com/samnthorne/FinalProject/main/data/crime_filtered.csv')\n",
    "head(data)"
   ]
  },
  {
   "cell_type": "markdown",
   "id": "a316f2cf-5b0d-408a-bec5-e96a49016e51",
   "metadata": {},
   "source": [
    "## Descriptive summary:\n",
    "\n",
    "Collecting information for descriptive summary of the data set:"
   ]
  },
  {
   "cell_type": "code",
   "execution_count": 52,
   "id": "86f77570-012d-4d0a-913f-47c3bfcda2a7",
   "metadata": {
    "tags": []
   },
   "outputs": [
    {
     "name": "stdout",
     "output_type": "stream",
     "text": [
      "     TYPE                YEAR          MONTH             DAY       \n",
      " Length:68545       Min.   :2014   Min.   : 1.000   Min.   : 1.00  \n",
      " Class :character   1st Qu.:2014   1st Qu.: 4.000   1st Qu.: 8.00  \n",
      " Mode  :character   Median :2019   Median : 6.000   Median :15.00  \n",
      "                    Mean   :2017   Mean   : 6.318   Mean   :15.17  \n",
      "                    3rd Qu.:2019   3rd Qu.: 9.000   3rd Qu.:22.00  \n",
      "                    Max.   :2019   Max.   :12.000   Max.   :31.00  \n",
      "                                                                   \n",
      "      HOUR           MINUTE      HUNDRED_BLOCK      NEIGHBOURHOOD     \n",
      " Min.   : 0.00   Min.   : 0.00   Length:68545       Length:68545      \n",
      " 1st Qu.: 7.00   1st Qu.: 0.00   Class :character   Class :character  \n",
      " Median :14.00   Median : 7.00   Mode  :character   Mode  :character  \n",
      " Mean   :12.38   Mean   :16.31                                        \n",
      " 3rd Qu.:19.00   3rd Qu.:30.00                                        \n",
      " Max.   :23.00   Max.   :59.00                                        \n",
      "                                                                      \n",
      "       X                Y          \n",
      " Min.   :     0   Min.   :      0  \n",
      " 1st Qu.:490280   1st Qu.:5454438  \n",
      " Median :491637   Median :5457248  \n",
      " Mean   :447599   Mean   :4962033  \n",
      " 3rd Qu.:493287   3rd Qu.:5458730  \n",
      " Max.   :498297   Max.   :5512579  \n",
      " NA's   :3        NA's   :3        \n"
     ]
    }
   ],
   "source": [
    "print(summary(data))"
   ]
  },
  {
   "cell_type": "code",
   "execution_count": 46,
   "id": "51e2278a-90ea-4ad5-b895-aca9e420714d",
   "metadata": {
    "tags": []
   },
   "outputs": [
    {
     "data": {
      "text/html": [
       "25"
      ],
      "text/latex": [
       "25"
      ],
      "text/markdown": [
       "25"
      ],
      "text/plain": [
       "[1] 25"
      ]
     },
     "metadata": {},
     "output_type": "display_data"
    },
    {
     "data": {
      "text/html": [
       "<style>\n",
       ".list-inline {list-style: none; margin:0; padding: 0}\n",
       ".list-inline>li {display: inline-block}\n",
       ".list-inline>li:not(:last-child)::after {content: \"\\00b7\"; padding: 0 .5ex}\n",
       "</style>\n",
       "<ol class=list-inline><li>'Break and Enter Commercial'</li><li>'Break and Enter Residential/Other'</li><li>'Homicide'</li><li>'Mischief'</li><li>'Offence Against a Person'</li><li>'Other Theft'</li><li>'Theft from Vehicle'</li><li>'Theft of Bicycle'</li><li>'Theft of Vehicle'</li><li>'Vehicle Collision or Pedestrian Struck (with Fatality)'</li><li>'Vehicle Collision or Pedestrian Struck (with Injury)'</li></ol>\n"
      ],
      "text/latex": [
       "\\begin{enumerate*}\n",
       "\\item 'Break and Enter Commercial'\n",
       "\\item 'Break and Enter Residential/Other'\n",
       "\\item 'Homicide'\n",
       "\\item 'Mischief'\n",
       "\\item 'Offence Against a Person'\n",
       "\\item 'Other Theft'\n",
       "\\item 'Theft from Vehicle'\n",
       "\\item 'Theft of Bicycle'\n",
       "\\item 'Theft of Vehicle'\n",
       "\\item 'Vehicle Collision or Pedestrian Struck (with Fatality)'\n",
       "\\item 'Vehicle Collision or Pedestrian Struck (with Injury)'\n",
       "\\end{enumerate*}\n"
      ],
      "text/markdown": [
       "1. 'Break and Enter Commercial'\n",
       "2. 'Break and Enter Residential/Other'\n",
       "3. 'Homicide'\n",
       "4. 'Mischief'\n",
       "5. 'Offence Against a Person'\n",
       "6. 'Other Theft'\n",
       "7. 'Theft from Vehicle'\n",
       "8. 'Theft of Bicycle'\n",
       "9. 'Theft of Vehicle'\n",
       "10. 'Vehicle Collision or Pedestrian Struck (with Fatality)'\n",
       "11. 'Vehicle Collision or Pedestrian Struck (with Injury)'\n",
       "\n",
       "\n"
      ],
      "text/plain": [
       " [1] \"Break and Enter Commercial\"                            \n",
       " [2] \"Break and Enter Residential/Other\"                     \n",
       " [3] \"Homicide\"                                              \n",
       " [4] \"Mischief\"                                              \n",
       " [5] \"Offence Against a Person\"                              \n",
       " [6] \"Other Theft\"                                           \n",
       " [7] \"Theft from Vehicle\"                                    \n",
       " [8] \"Theft of Bicycle\"                                      \n",
       " [9] \"Theft of Vehicle\"                                      \n",
       "[10] \"Vehicle Collision or Pedestrian Struck (with Fatality)\"\n",
       "[11] \"Vehicle Collision or Pedestrian Struck (with Injury)\"  "
      ]
     },
     "metadata": {},
     "output_type": "display_data"
    }
   ],
   "source": [
    "length((unique(data$TYPE)))\n",
    "unique(data$TYPE)"
   ]
  },
  {
   "cell_type": "code",
   "execution_count": 51,
   "id": "89b22417-fdda-4d03-85bd-9d1a5e97f089",
   "metadata": {
    "tags": []
   },
   "outputs": [
    {
     "data": {
      "text/html": [
       "11275"
      ],
      "text/latex": [
       "11275"
      ],
      "text/markdown": [
       "11275"
      ],
      "text/plain": [
       "[1] 11275"
      ]
     },
     "metadata": {},
     "output_type": "display_data"
    }
   ],
   "source": [
    "length((unique(data$HUNDRED_BLOCK)))\n",
    "# unique(data$HUNDRED_BLOCK)"
   ]
  },
  {
   "cell_type": "code",
   "execution_count": 49,
   "id": "77eaf887-efbc-4157-a24d-eca6bbaee4f8",
   "metadata": {
    "tags": []
   },
   "outputs": [
    {
     "data": {
      "text/html": [
       "25"
      ],
      "text/latex": [
       "25"
      ],
      "text/markdown": [
       "25"
      ],
      "text/plain": [
       "[1] 25"
      ]
     },
     "metadata": {},
     "output_type": "display_data"
    },
    {
     "data": {
      "text/html": [
       "<style>\n",
       ".list-inline {list-style: none; margin:0; padding: 0}\n",
       ".list-inline>li {display: inline-block}\n",
       ".list-inline>li:not(:last-child)::after {content: \"\\00b7\"; padding: 0 .5ex}\n",
       "</style>\n",
       "<ol class=list-inline><li>'Fairview'</li><li>'West End'</li><li>'Central Business District'</li><li>'Grandview-Woodland'</li><li>'Mount Pleasant'</li><li>'Strathcona'</li><li>'Sunset'</li><li>'Kensington-Cedar Cottage'</li><li>'Stanley Park'</li><li>'Shaughnessy'</li><li>'Marpole'</li><li>'West Point Grey'</li><li>'Hastings-Sunrise'</li><li>'Victoria-Fraserview'</li><li>'Kitsilano'</li><li>'Kerrisdale'</li><li>'Riley Park'</li><li>'Oakridge'</li><li>'Arbutus Ridge'</li><li>'Renfrew-Collingwood'</li><li>'Killarney'</li><li>'Dunbar-Southlands'</li><li>'South Cambie'</li><li>'Musqueam'</li><li>NA</li></ol>\n"
      ],
      "text/latex": [
       "\\begin{enumerate*}\n",
       "\\item 'Fairview'\n",
       "\\item 'West End'\n",
       "\\item 'Central Business District'\n",
       "\\item 'Grandview-Woodland'\n",
       "\\item 'Mount Pleasant'\n",
       "\\item 'Strathcona'\n",
       "\\item 'Sunset'\n",
       "\\item 'Kensington-Cedar Cottage'\n",
       "\\item 'Stanley Park'\n",
       "\\item 'Shaughnessy'\n",
       "\\item 'Marpole'\n",
       "\\item 'West Point Grey'\n",
       "\\item 'Hastings-Sunrise'\n",
       "\\item 'Victoria-Fraserview'\n",
       "\\item 'Kitsilano'\n",
       "\\item 'Kerrisdale'\n",
       "\\item 'Riley Park'\n",
       "\\item 'Oakridge'\n",
       "\\item 'Arbutus Ridge'\n",
       "\\item 'Renfrew-Collingwood'\n",
       "\\item 'Killarney'\n",
       "\\item 'Dunbar-Southlands'\n",
       "\\item 'South Cambie'\n",
       "\\item 'Musqueam'\n",
       "\\item NA\n",
       "\\end{enumerate*}\n"
      ],
      "text/markdown": [
       "1. 'Fairview'\n",
       "2. 'West End'\n",
       "3. 'Central Business District'\n",
       "4. 'Grandview-Woodland'\n",
       "5. 'Mount Pleasant'\n",
       "6. 'Strathcona'\n",
       "7. 'Sunset'\n",
       "8. 'Kensington-Cedar Cottage'\n",
       "9. 'Stanley Park'\n",
       "10. 'Shaughnessy'\n",
       "11. 'Marpole'\n",
       "12. 'West Point Grey'\n",
       "13. 'Hastings-Sunrise'\n",
       "14. 'Victoria-Fraserview'\n",
       "15. 'Kitsilano'\n",
       "16. 'Kerrisdale'\n",
       "17. 'Riley Park'\n",
       "18. 'Oakridge'\n",
       "19. 'Arbutus Ridge'\n",
       "20. 'Renfrew-Collingwood'\n",
       "21. 'Killarney'\n",
       "22. 'Dunbar-Southlands'\n",
       "23. 'South Cambie'\n",
       "24. 'Musqueam'\n",
       "25. NA\n",
       "\n",
       "\n"
      ],
      "text/plain": [
       " [1] \"Fairview\"                  \"West End\"                 \n",
       " [3] \"Central Business District\" \"Grandview-Woodland\"       \n",
       " [5] \"Mount Pleasant\"            \"Strathcona\"               \n",
       " [7] \"Sunset\"                    \"Kensington-Cedar Cottage\" \n",
       " [9] \"Stanley Park\"              \"Shaughnessy\"              \n",
       "[11] \"Marpole\"                   \"West Point Grey\"          \n",
       "[13] \"Hastings-Sunrise\"          \"Victoria-Fraserview\"      \n",
       "[15] \"Kitsilano\"                 \"Kerrisdale\"               \n",
       "[17] \"Riley Park\"                \"Oakridge\"                 \n",
       "[19] \"Arbutus Ridge\"             \"Renfrew-Collingwood\"      \n",
       "[21] \"Killarney\"                 \"Dunbar-Southlands\"        \n",
       "[23] \"South Cambie\"              \"Musqueam\"                 \n",
       "[25] NA                         "
      ]
     },
     "metadata": {},
     "output_type": "display_data"
    }
   ],
   "source": [
    "length((unique(data$NEIGHBOURHOOD)))\n",
    "unique(data$NEIGHBOURHOOD)"
   ]
  },
  {
   "cell_type": "markdown",
   "id": "8fc75568-566a-4411-8b02-c685784b839a",
   "metadata": {},
   "source": [
    "The **Vancouver Crime DataSet** has 10 attributes to describe the 68545 crimes detailed in this dataset. Each row represents an instance of crime in Vancouver while each column represents details of these crimes. Of these 10 attributes, 7 of them are quantitative values (5 of which represent temporal data), while the remaining 3 are categorical attributes. \n",
    "\n",
    "**Vancouver Crime Data Attribute Summary**:\n",
    "\n",
    "| Name of attribute | Type of data | Semantics | Notes |\n",
    "| ---| ---| ---| ---|\n",
    "| `TYPE`| Categorical `str`| Is a representation of the type of crime. |Has 25 unique values. This includes: `['Break and Enter Commercial','Break and Enter Residential/Other','Homicide','Mischief','Offence Against a Person','Other Theft''Theft from Vehicle','Theft of Bicycle','Theft of Vehicle','Vehicle Collision or Pedestrian Struck (with Fatality)','Vehicle Collision or Pedestrian Struck (with Injury)']` |\n",
    "| `YEAR`| Categorical`dbl`| The year of the crime (2 options) | This is going to be either `2014` or `2019` because that is all we are including in our data analysis.|\n",
    "|`MONTH`| Temporal Quantitative `dbl`| The month of the crime | Integars 1-12|\n",
    "|`DAY`| Temporal Quantitative `dbl`| The day of the month of the crime | Integars 1-31|\n",
    "|`HOUR`| Temporal Quantitative `dbl`| The hour within the day of the crime | Integars 0-23|\n",
    "|`MINUTE`| Temporal Quantitative `dbl`| The minute within the hour of the crime | Integars 0-60 |\n",
    "|`HUNDRED_BLOCK`| Categorical `str`| The block (specific location) on which the crime occurred) | 11275 unique values |\n",
    "|`NEIGHBOURHOOD`| Categorical `str`| The neighbourhood the crime occurred in |    Has 25 unique values. These include: `['Fairview''West End', 'Central Business District', 'Grandview-Woodland', 'Mount Pleasant', 'Strathcona', 'Sunset', 'Kensington-Cedar Cottage', 'Stanley Park', 'Shaughnessy', 'Marpole', 'West Point Grey', 'Hastings-Sunrise', 'Victoria-Fraserview', 'Kitsilano''Kerrisdale', 'Riley Park', 'Oakridge', 'Arbutus Ridge', 'Renfrew-Collingwood', 'Killarney', 'Dunbar-Southlands', 'South Cambie', 'Musqueam', NA]`|\n",
    "|`X`| Quantitative `dbl`| GPS longitude of crime | Has 3 NA values, and has 0's which are also NA values. |\n",
    "|`Y`| Quantitative `dbl`| GPS latitude of crime | Has 3 NA values, and has 0's which are also NA values. |"
   ]
  },
  {
   "cell_type": "markdown",
   "id": "669c1d33-9e84-4dcc-a4a7-bd9f4863ce1e",
   "metadata": {},
   "source": [
    "## Question:"
   ]
  },
  {
   "cell_type": "code",
   "execution_count": null,
   "id": "f4ce93e2-3322-49fa-b7fa-1f4bb0200af3",
   "metadata": {},
   "outputs": [],
   "source": []
  }
 ],
 "metadata": {
  "kernelspec": {
   "display_name": "R",
   "language": "R",
   "name": "ir"
  },
  "language_info": {
   "codemirror_mode": "r",
   "file_extension": ".r",
   "mimetype": "text/x-r-source",
   "name": "R",
   "pygments_lexer": "r",
   "version": "4.2.3"
  }
 },
 "nbformat": 4,
 "nbformat_minor": 5
}

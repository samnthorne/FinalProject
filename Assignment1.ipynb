{
 "cells": [
  {
   "cell_type": "markdown",
   "id": "9841066e-bad9-4aa8-910b-b222f90442cc",
   "metadata": {},
   "source": [
    "# STAT 301: Individual Assignment 1\n",
    "\n",
    "**Group:** 26\n",
    "\n",
    "**Group member:** Sam Thorne 83910448"
   ]
  },
  {
   "cell_type": "markdown",
   "id": "7f736f67-b63b-46ea-8cf0-a43bb51eec4d",
   "metadata": {},
   "source": [
    "## New York City Airbnb Data:\n",
    "\n",
    "This data originally retrieved from [Kaggle](https://www.kaggle.com/datasets/dgomonov/new-york-city-airbnb-open-data). The raw data can additionally be found on [GitHub](https://raw.githubusercontent.com/samnthorne/FinalProject/main/data/AB_NYC_2019.csv).\n",
    "\n",
    "The link is: https://www.kaggle.com/datasets/dgomonov/new-york-city-airbnb-open-data\n",
    "\n",
    "This dataset is a summary of Airbnb information in the New York City area during 2019. The data includes review information, host metrics, general metrics about the Bnb, and booking information. This is a public dataset that can be found on [insideairbnb.com].(http://insideairbnb.com/)\n",
    "\n",
    "### Sample of Airbnb Data:"
   ]
  },
  {
   "cell_type": "code",
   "execution_count": 2,
   "id": "d1b5fc10-f703-4705-9575-9542f3b91ae5",
   "metadata": {
    "tags": []
   },
   "outputs": [],
   "source": [
    "library(tidyverse)"
   ]
  },
  {
   "cell_type": "code",
   "execution_count": 3,
   "id": "07dfd00c-a839-4730-bcd8-36e6951ff121",
   "metadata": {
    "tags": []
   },
   "outputs": [
    {
     "name": "stderr",
     "output_type": "stream",
     "text": [
      "\u001b[1mRows: \u001b[22m\u001b[34m48895\u001b[39m \u001b[1mColumns: \u001b[22m\u001b[34m16\u001b[39m\n",
      "\u001b[36m──\u001b[39m \u001b[1mColumn specification\u001b[22m \u001b[36m────────────────────────────────────────────────────────\u001b[39m\n",
      "\u001b[1mDelimiter:\u001b[22m \",\"\n",
      "\u001b[31mchr\u001b[39m   (5): name, host_name, neighbourhood_group, neighbourhood, room_type\n",
      "\u001b[32mdbl\u001b[39m  (10): id, host_id, latitude, longitude, price, minimum_nights, number_o...\n",
      "\u001b[34mdate\u001b[39m  (1): last_review\n",
      "\n",
      "\u001b[36mℹ\u001b[39m Use `spec()` to retrieve the full column specification for this data.\n",
      "\u001b[36mℹ\u001b[39m Specify the column types or set `show_col_types = FALSE` to quiet this message.\n"
     ]
    },
    {
     "data": {
      "text/html": [
       "<table class=\"dataframe\">\n",
       "<caption>A tibble: 6 × 16</caption>\n",
       "<thead>\n",
       "\t<tr><th scope=col>id</th><th scope=col>name</th><th scope=col>host_id</th><th scope=col>host_name</th><th scope=col>neighbourhood_group</th><th scope=col>neighbourhood</th><th scope=col>latitude</th><th scope=col>longitude</th><th scope=col>room_type</th><th scope=col>price</th><th scope=col>minimum_nights</th><th scope=col>number_of_reviews</th><th scope=col>last_review</th><th scope=col>reviews_per_month</th><th scope=col>calculated_host_listings_count</th><th scope=col>availability_365</th></tr>\n",
       "\t<tr><th scope=col>&lt;dbl&gt;</th><th scope=col>&lt;chr&gt;</th><th scope=col>&lt;dbl&gt;</th><th scope=col>&lt;chr&gt;</th><th scope=col>&lt;chr&gt;</th><th scope=col>&lt;chr&gt;</th><th scope=col>&lt;dbl&gt;</th><th scope=col>&lt;dbl&gt;</th><th scope=col>&lt;chr&gt;</th><th scope=col>&lt;dbl&gt;</th><th scope=col>&lt;dbl&gt;</th><th scope=col>&lt;dbl&gt;</th><th scope=col>&lt;date&gt;</th><th scope=col>&lt;dbl&gt;</th><th scope=col>&lt;dbl&gt;</th><th scope=col>&lt;dbl&gt;</th></tr>\n",
       "</thead>\n",
       "<tbody>\n",
       "\t<tr><td>2539</td><td><span style=white-space:pre-wrap>Clean &amp; quiet apt home by the park              </span></td><td>2787</td><td><span style=white-space:pre-wrap>John       </span></td><td>Brooklyn </td><td><span style=white-space:pre-wrap>Kensington  </span></td><td>40.64749</td><td>-73.97237</td><td><span style=white-space:pre-wrap>Private room   </span></td><td>149</td><td> 1</td><td><span style=white-space:pre-wrap>  9</span></td><td>2018-10-19</td><td>0.21</td><td>6</td><td>365</td></tr>\n",
       "\t<tr><td>2595</td><td>Skylit Midtown Castle                           </td><td>2845</td><td>Jennifer   </td><td>Manhattan</td><td>Midtown     </td><td>40.75362</td><td>-73.98377</td><td>Entire home/apt</td><td>225</td><td> 1</td><td> 45</td><td>2019-05-21</td><td>0.38</td><td>2</td><td>355</td></tr>\n",
       "\t<tr><td>3647</td><td>THE VILLAGE OF HARLEM....NEW YORK !             </td><td>4632</td><td>Elisabeth  </td><td>Manhattan</td><td>Harlem      </td><td>40.80902</td><td>-73.94190</td><td>Private room   </td><td>150</td><td> 3</td><td>  0</td><td>NA</td><td>  NA</td><td>1</td><td>365</td></tr>\n",
       "\t<tr><td>3831</td><td>Cozy Entire Floor of Brownstone                 </td><td>4869</td><td>LisaRoxanne</td><td>Brooklyn </td><td>Clinton Hill</td><td>40.68514</td><td>-73.95976</td><td>Entire home/apt</td><td> 89</td><td> 1</td><td>270</td><td>2019-07-05</td><td>4.64</td><td>1</td><td>194</td></tr>\n",
       "\t<tr><td>5022</td><td>Entire Apt: Spacious Studio/Loft by central park</td><td>7192</td><td>Laura      </td><td>Manhattan</td><td>East Harlem </td><td>40.79851</td><td>-73.94399</td><td>Entire home/apt</td><td> 80</td><td>10</td><td>  9</td><td>2018-11-19</td><td>0.10</td><td>1</td><td>  0</td></tr>\n",
       "\t<tr><td>5099</td><td>Large Cozy 1 BR Apartment In Midtown East       </td><td>7322</td><td>Chris      </td><td>Manhattan</td><td>Murray Hill </td><td>40.74767</td><td>-73.97500</td><td>Entire home/apt</td><td>200</td><td> 3</td><td> 74</td><td>2019-06-22</td><td>0.59</td><td>1</td><td>129</td></tr>\n",
       "</tbody>\n",
       "</table>\n"
      ],
      "text/latex": [
       "A tibble: 6 × 16\n",
       "\\begin{tabular}{llllllllllllllll}\n",
       " id & name & host\\_id & host\\_name & neighbourhood\\_group & neighbourhood & latitude & longitude & room\\_type & price & minimum\\_nights & number\\_of\\_reviews & last\\_review & reviews\\_per\\_month & calculated\\_host\\_listings\\_count & availability\\_365\\\\\n",
       " <dbl> & <chr> & <dbl> & <chr> & <chr> & <chr> & <dbl> & <dbl> & <chr> & <dbl> & <dbl> & <dbl> & <date> & <dbl> & <dbl> & <dbl>\\\\\n",
       "\\hline\n",
       "\t 2539 & Clean \\& quiet apt home by the park               & 2787 & John        & Brooklyn  & Kensington   & 40.64749 & -73.97237 & Private room    & 149 &  1 &   9 & 2018-10-19 & 0.21 & 6 & 365\\\\\n",
       "\t 2595 & Skylit Midtown Castle                            & 2845 & Jennifer    & Manhattan & Midtown      & 40.75362 & -73.98377 & Entire home/apt & 225 &  1 &  45 & 2019-05-21 & 0.38 & 2 & 355\\\\\n",
       "\t 3647 & THE VILLAGE OF HARLEM....NEW YORK !              & 4632 & Elisabeth   & Manhattan & Harlem       & 40.80902 & -73.94190 & Private room    & 150 &  3 &   0 & NA &   NA & 1 & 365\\\\\n",
       "\t 3831 & Cozy Entire Floor of Brownstone                  & 4869 & LisaRoxanne & Brooklyn  & Clinton Hill & 40.68514 & -73.95976 & Entire home/apt &  89 &  1 & 270 & 2019-07-05 & 4.64 & 1 & 194\\\\\n",
       "\t 5022 & Entire Apt: Spacious Studio/Loft by central park & 7192 & Laura       & Manhattan & East Harlem  & 40.79851 & -73.94399 & Entire home/apt &  80 & 10 &   9 & 2018-11-19 & 0.10 & 1 &   0\\\\\n",
       "\t 5099 & Large Cozy 1 BR Apartment In Midtown East        & 7322 & Chris       & Manhattan & Murray Hill  & 40.74767 & -73.97500 & Entire home/apt & 200 &  3 &  74 & 2019-06-22 & 0.59 & 1 & 129\\\\\n",
       "\\end{tabular}\n"
      ],
      "text/markdown": [
       "\n",
       "A tibble: 6 × 16\n",
       "\n",
       "| id &lt;dbl&gt; | name &lt;chr&gt; | host_id &lt;dbl&gt; | host_name &lt;chr&gt; | neighbourhood_group &lt;chr&gt; | neighbourhood &lt;chr&gt; | latitude &lt;dbl&gt; | longitude &lt;dbl&gt; | room_type &lt;chr&gt; | price &lt;dbl&gt; | minimum_nights &lt;dbl&gt; | number_of_reviews &lt;dbl&gt; | last_review &lt;date&gt; | reviews_per_month &lt;dbl&gt; | calculated_host_listings_count &lt;dbl&gt; | availability_365 &lt;dbl&gt; |\n",
       "|---|---|---|---|---|---|---|---|---|---|---|---|---|---|---|---|\n",
       "| 2539 | Clean &amp; quiet apt home by the park               | 2787 | John        | Brooklyn  | Kensington   | 40.64749 | -73.97237 | Private room    | 149 |  1 |   9 | 2018-10-19 | 0.21 | 6 | 365 |\n",
       "| 2595 | Skylit Midtown Castle                            | 2845 | Jennifer    | Manhattan | Midtown      | 40.75362 | -73.98377 | Entire home/apt | 225 |  1 |  45 | 2019-05-21 | 0.38 | 2 | 355 |\n",
       "| 3647 | THE VILLAGE OF HARLEM....NEW YORK !              | 4632 | Elisabeth   | Manhattan | Harlem       | 40.80902 | -73.94190 | Private room    | 150 |  3 |   0 | NA |   NA | 1 | 365 |\n",
       "| 3831 | Cozy Entire Floor of Brownstone                  | 4869 | LisaRoxanne | Brooklyn  | Clinton Hill | 40.68514 | -73.95976 | Entire home/apt |  89 |  1 | 270 | 2019-07-05 | 4.64 | 1 | 194 |\n",
       "| 5022 | Entire Apt: Spacious Studio/Loft by central park | 7192 | Laura       | Manhattan | East Harlem  | 40.79851 | -73.94399 | Entire home/apt |  80 | 10 |   9 | 2018-11-19 | 0.10 | 1 |   0 |\n",
       "| 5099 | Large Cozy 1 BR Apartment In Midtown East        | 7322 | Chris       | Manhattan | Murray Hill  | 40.74767 | -73.97500 | Entire home/apt | 200 |  3 |  74 | 2019-06-22 | 0.59 | 1 | 129 |\n",
       "\n"
      ],
      "text/plain": [
       "  id   name                                             host_id host_name  \n",
       "1 2539 Clean & quiet apt home by the park               2787    John       \n",
       "2 2595 Skylit Midtown Castle                            2845    Jennifer   \n",
       "3 3647 THE VILLAGE OF HARLEM....NEW YORK !              4632    Elisabeth  \n",
       "4 3831 Cozy Entire Floor of Brownstone                  4869    LisaRoxanne\n",
       "5 5022 Entire Apt: Spacious Studio/Loft by central park 7192    Laura      \n",
       "6 5099 Large Cozy 1 BR Apartment In Midtown East        7322    Chris      \n",
       "  neighbourhood_group neighbourhood latitude longitude room_type       price\n",
       "1 Brooklyn            Kensington    40.64749 -73.97237 Private room    149  \n",
       "2 Manhattan           Midtown       40.75362 -73.98377 Entire home/apt 225  \n",
       "3 Manhattan           Harlem        40.80902 -73.94190 Private room    150  \n",
       "4 Brooklyn            Clinton Hill  40.68514 -73.95976 Entire home/apt  89  \n",
       "5 Manhattan           East Harlem   40.79851 -73.94399 Entire home/apt  80  \n",
       "6 Manhattan           Murray Hill   40.74767 -73.97500 Entire home/apt 200  \n",
       "  minimum_nights number_of_reviews last_review reviews_per_month\n",
       "1  1               9               2018-10-19  0.21             \n",
       "2  1              45               2019-05-21  0.38             \n",
       "3  3               0               <NA>          NA             \n",
       "4  1             270               2019-07-05  4.64             \n",
       "5 10               9               2018-11-19  0.10             \n",
       "6  3              74               2019-06-22  0.59             \n",
       "  calculated_host_listings_count availability_365\n",
       "1 6                              365             \n",
       "2 2                              355             \n",
       "3 1                              365             \n",
       "4 1                              194             \n",
       "5 1                                0             \n",
       "6 1                              129             "
      ]
     },
     "metadata": {},
     "output_type": "display_data"
    }
   ],
   "source": [
    "# Reading in the data set:\n",
    "\n",
    "data <- read_csv('https://raw.githubusercontent.com/samnthorne/FinalProject/main/data/AB_NYC_2019.csv')\n",
    "\n",
    "head(data)"
   ]
  },
  {
   "cell_type": "code",
   "execution_count": 4,
   "id": "1f327768-ba55-43fa-8cc8-fbbf9fe99405",
   "metadata": {
    "tags": []
   },
   "outputs": [
    {
     "data": {
      "text/plain": [
       "       id               name              host_id           host_name        \n",
       " Min.   :    2539   Length:48895       Min.   :     2438   Length:48895      \n",
       " 1st Qu.: 9471945   Class :character   1st Qu.:  7822033   Class :character  \n",
       " Median :19677284   Mode  :character   Median : 30793816   Mode  :character  \n",
       " Mean   :19017143                      Mean   : 67620011                     \n",
       " 3rd Qu.:29152178                      3rd Qu.:107434423                     \n",
       " Max.   :36487245                      Max.   :274321313                     \n",
       "                                                                             \n",
       " neighbourhood_group neighbourhood         latitude       longitude     \n",
       " Length:48895        Length:48895       Min.   :40.50   Min.   :-74.24  \n",
       " Class :character    Class :character   1st Qu.:40.69   1st Qu.:-73.98  \n",
       " Mode  :character    Mode  :character   Median :40.72   Median :-73.96  \n",
       "                                        Mean   :40.73   Mean   :-73.95  \n",
       "                                        3rd Qu.:40.76   3rd Qu.:-73.94  \n",
       "                                        Max.   :40.91   Max.   :-73.71  \n",
       "                                                                        \n",
       "  room_type             price         minimum_nights    number_of_reviews\n",
       " Length:48895       Min.   :    0.0   Min.   :   1.00   Min.   :  0.00   \n",
       " Class :character   1st Qu.:   69.0   1st Qu.:   1.00   1st Qu.:  1.00   \n",
       " Mode  :character   Median :  106.0   Median :   3.00   Median :  5.00   \n",
       "                    Mean   :  152.7   Mean   :   7.03   Mean   : 23.27   \n",
       "                    3rd Qu.:  175.0   3rd Qu.:   5.00   3rd Qu.: 24.00   \n",
       "                    Max.   :10000.0   Max.   :1250.00   Max.   :629.00   \n",
       "                                                                         \n",
       "  last_review         reviews_per_month calculated_host_listings_count\n",
       " Min.   :2011-03-28   Min.   : 0.010    Min.   :  1.000               \n",
       " 1st Qu.:2018-07-08   1st Qu.: 0.190    1st Qu.:  1.000               \n",
       " Median :2019-05-19   Median : 0.720    Median :  1.000               \n",
       " Mean   :2018-10-04   Mean   : 1.373    Mean   :  7.144               \n",
       " 3rd Qu.:2019-06-23   3rd Qu.: 2.020    3rd Qu.:  2.000               \n",
       " Max.   :2019-07-08   Max.   :58.500    Max.   :327.000               \n",
       " NA's   :10052        NA's   :10052                                   \n",
       " availability_365\n",
       " Min.   :  0.0   \n",
       " 1st Qu.:  0.0   \n",
       " Median : 45.0   \n",
       " Mean   :112.8   \n",
       " 3rd Qu.:227.0   \n",
       " Max.   :365.0   \n",
       "                 "
      ]
     },
     "metadata": {},
     "output_type": "display_data"
    }
   ],
   "source": [
    "summary(data)"
   ]
  },
  {
   "cell_type": "code",
   "execution_count": 39,
   "id": "49d54601-462b-43b7-92a6-861a88c0a6f5",
   "metadata": {
    "tags": []
   },
   "outputs": [
    {
     "name": "stdout",
     "output_type": "stream",
     "text": [
      "[1] \"There are 47895 Airbnbs\"\n",
      "[1] \"There are 37457 different host ids\"\n",
      "[1] \"There are 11453 host names\"\n",
      "[1] \"There are 5 different neighbourhood groups\"\n",
      "[1] \"There are 221 different neighbourhoods\"\n",
      "[1] \"There are 3 different room types\"\n"
     ]
    }
   ],
   "source": [
    "print(paste(\"There are\", length(unique(data$name)), \"Airbnbs\"))\n",
    "print(paste(\"There are\", length(unique(data$host_id)), \"different host ids\"))\n",
    "print(paste(\"There are\", length(unique(data$host_name)), \"host names\"))\n",
    "print(paste(\"There are\", length(unique(data$neighbourhood_group)), \"different neighbourhood groups\"))\n",
    "print(paste(\"There are\", length(unique(data$neighbourhood)), \"different neighbourhoods\"))\n",
    "print(paste(\"There are\", length(unique(data$room_type)), \"different room types\"))"
   ]
  },
  {
   "cell_type": "code",
   "execution_count": 40,
   "id": "8313275e-bdfe-4da6-8367-bbaa1fe3c094",
   "metadata": {
    "tags": []
   },
   "outputs": [
    {
     "name": "stdout",
     "output_type": "stream",
     "text": [
      "[1] \"Brooklyn\"      \"Manhattan\"     \"Queens\"        \"Staten Island\"\n",
      "[5] \"Bronx\"        \n",
      "[1] \"Private room\"    \"Entire home/apt\" \"Shared room\"    \n"
     ]
    }
   ],
   "source": [
    "# viewing unique values for some nominal attributes\n",
    "\n",
    "# 221 unique values of neighbourhood. All have capital words\n",
    "# print(unique(data$neighbourhood))\n",
    "\n",
    "# 5 unique values for neighborhood group\n",
    "print(unique(data$neighbourhood_group))\n",
    "\n",
    "# 3 unique values for room type\n",
    "print(unique(data$room_type))"
   ]
  },
  {
   "cell_type": "markdown",
   "id": "1c13c651-c4ad-4b9f-a5fb-7dd7dc380ef0",
   "metadata": {},
   "source": [
    "---\n",
    "\n",
    "### Descriptive Summary:\n",
    "\n",
    "**New York City Airbnb Dataset** has 16 attributes describing various Airbnbs throughout the New York City area in 2019. There are 48895 different Airbnb's presented in this data set. \n",
    "\n",
    "**Data Attribute Summary:**\n",
    "\n",
    "|Name of attribute|Type of data|Semantics|Notes|\n",
    "|---|---|---|---|\n",
    "|`id`|Quantitative `dbl`|There is a unique value in each of these columns, id is essentially the index for the row|Unique value for each row, does not start at `0`.|\n",
    "|`name`|Categorical variable `chr`|This is the name of the BnB that the row is about.|There are `47895` unique values in this column. Meaning it is not unique throughout the whole data set.|\n",
    "|`host_id`|Quantitative variable `dbl`|This is the numerical ID for the BnB host for the row|`37457` different values in this column ranging from `2438` to `274321313`|\n",
    "|`host_name`|Categorical variable `chr`|Name of the host in charge of the Bnb for the row|`11453` unique values in this row. The names are mainly just the first name of the Bnb host.|\n",
    "|`neighbourhood_group`|Categorical variable `chr`|The neighbourhood are grouped together in this data. These are general community groupings in the New York area|There are 5 unique values in this column. These values include: `Brooklyn`, `Manhattan`, `Queens`, `Staten Island` and `Bronx`.|\n",
    "|`neighbourhood`|Categorical variable `chr`|This is the neighbourhood in New York the Airbnb can be found in|There are 221 unique values in this column. They are represented as strings where each word begins with a capital.|\n",
    "|`latitude`|Quantitative variable `dbl`|This is the latitude location of the BnB represented in each row|Ranges from `40.50` to `40.91`. All within the New York area.|\n",
    "|`longitude`|Quantitative variable `dbl`|This is the longitude of the Bnb represented in each row|Ranges from`-74.24` to `73.71`|\n",
    "|`room_type`|Categorical variable `chr`|This is the type of room at you can rent out through each Bnb|Has 3 unique values. These values include: `Private room`, `Entire home/apt`, and `Shared room`.|\n",
    "|`price`|Quantitative variable `dbl`|This is how much is costs to stay with each Airbnb for a single night|Ranges from `0.0` to `10000.0`. All values are a rounded whole number.|\n",
    "|`minimum_nights`|Quantitative variable `dbl`|This is the minimum amount of nights someone must book to stay at this bnb.|Ranges from `1.00` to `1250.0`, all values are rounded whole numbers.|\n",
    "|`number_of_reviews`|Quantitative variable `dbl`|This is the number of reviews this Airbnb recieved prior to this study|Ranges from `0.0` to `629.00`. All values are whole numbers.|\n",
    "|`last_review`|Date `date`|This is the day that the last review (prior to this study) was posted.|Values range from `2011`, to `2019`. There are also `10052` NA values in this column.|\n",
    "|`reviews_per_month`|Quantitative variable `dbl`|This is the average number of reviews the Bnb recieves each month|Ranges from `0.010` to `58.5`. With a mean of `1.373` reviews each month.|\n",
    "|`calculated_host_listings_count`|Quantitative variable `dbl`|This is the number of other Airbnbs this host runs.|Ranges from `1` to `327`. Most of this column is made up of 1's (the host runs only one bnb and it is the bnb represented in that row.|\n",
    "|`availability_365`|Quantitative variable `dbl`|This is the number of days available for booking (not yet booked when data was collected).|Ranges from `0` to `365`. The average amount of days available is `112`.|"
   ]
  },
  {
   "cell_type": "markdown",
   "id": "f62e8e3e-7b4a-4893-b4e4-46df02634193",
   "metadata": {},
   "source": [
    "---\n",
    "## Question:\n",
    "\n",
    "**Primary research question:**\n",
    "\n",
    "> Using the location, availability, room type, & number of listings the host has, how much should a single night stay at the Airbnb cost?\n",
    "\n",
    "This question is aimed towards new Airbnb hosts who are unsure about how much a stay at their bnb should cost. My goal is to build a predictive model that will predict an appropriate price for a nights stay at an Airbnb based on the variables listed above. For location, I will be looking at the `neighbourhood_group` variable as this is often how people would choose a location of an Airbnb. All other location variables are going to be dropped to avoid multi-collinearity.\n",
    "\n",
    "Additionally, I decided to remove the number of reviews and other review information from this model. Most often, people leave reviews when they have recieved really good services or extremely poor services. Since sentiment was not looked at in this data collection I am dropping this variable as it could nullify the models predictions. "
   ]
  }
 ],
 "metadata": {
  "kernelspec": {
   "display_name": "R",
   "language": "R",
   "name": "ir"
  },
  "language_info": {
   "codemirror_mode": "r",
   "file_extension": ".r",
   "mimetype": "text/x-r-source",
   "name": "R",
   "pygments_lexer": "r",
   "version": "4.2.3"
  }
 },
 "nbformat": 4,
 "nbformat_minor": 5
}

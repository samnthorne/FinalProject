{
 "cells": [
  {
   "cell_type": "markdown",
   "id": "7e64eb2e-2df7-4411-aa55-8433d95ae09e",
   "metadata": {},
   "source": [
    "# STAT301: Final Project\n",
    "\n",
    "## Individual Assignment 1\n",
    "\n",
    "Sam Thorne 83910448"
   ]
  },
  {
   "cell_type": "code",
   "execution_count": 3,
   "id": "3130b93f-df45-403f-8aba-bde991d2c091",
   "metadata": {
    "tags": []
   },
   "outputs": [],
   "source": [
    "library(tidyverse)\n",
    "# library(repr)\n",
    "# library(infer)\n",
    "# library(cowplot)\n",
    "# library(broom)\n",
    "# library(GGally)\n",
    "# library(AER)"
   ]
  },
  {
   "cell_type": "code",
   "execution_count": null,
   "id": "45a24993-8971-4d3c-8b67-f898d7d82bbe",
   "metadata": {},
   "outputs": [],
   "source": []
  }
 ],
 "metadata": {
  "kernelspec": {
   "display_name": "R",
   "language": "R",
   "name": "ir"
  },
  "language_info": {
   "codemirror_mode": "r",
   "file_extension": ".r",
   "mimetype": "text/x-r-source",
   "name": "R",
   "pygments_lexer": "r",
   "version": "4.2.3"
  }
 },
 "nbformat": 4,
 "nbformat_minor": 5
}

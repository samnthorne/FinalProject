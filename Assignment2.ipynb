{
 "cells": [
  {
   "cell_type": "markdown",
   "id": "7900687a-49d6-4deb-8a0c-ed23e8b506d3",
   "metadata": {},
   "source": [
    "# STAT 301: Individual Assignment 2\n",
    "\n",
    "**Group:** 26\n",
    "\n",
    "**Group member:** Sam Thorne 83910448\n",
    "\n",
    "## New York City Airbnb Data\n",
    "\n",
    "Data was originally retrieved from [Kaggle](https://www.kaggle.com/datasets/dgomonov/new-york-city-airbnb-open-data). Raw data can be found on [GitHub](https://raw.githubusercontent.com/samnthorne/FinalProject/main/data/AB_NYC_2019.csv).\n",
    "\n",
    "***Question of interest from Assignment1:***\n",
    "> *Using the location, availability, room type, & number of listings the host has, how much should a single night stay at the Airbnb cost?*"
   ]
  },
  {
   "cell_type": "markdown",
   "id": "13d0b7c1-e6bf-4e7a-b3e6-d2d84f08548a",
   "metadata": {},
   "source": [
    "## Reading the data in using R:"
   ]
  },
  {
   "cell_type": "code",
   "execution_count": 1,
   "id": "728fa31b-e822-4d54-a6d1-15221e3bd694",
   "metadata": {
    "tags": []
   },
   "outputs": [
    {
     "name": "stderr",
     "output_type": "stream",
     "text": [
      "── \u001b[1mAttaching core tidyverse packages\u001b[22m ──────────────────────── tidyverse 2.0.0 ──\n",
      "\u001b[32m✔\u001b[39m \u001b[34mdplyr    \u001b[39m 1.1.3     \u001b[32m✔\u001b[39m \u001b[34mreadr    \u001b[39m 2.1.4\n",
      "\u001b[32m✔\u001b[39m \u001b[34mforcats  \u001b[39m 1.0.0     \u001b[32m✔\u001b[39m \u001b[34mstringr  \u001b[39m 1.5.0\n",
      "\u001b[32m✔\u001b[39m \u001b[34mggplot2  \u001b[39m 3.4.3     \u001b[32m✔\u001b[39m \u001b[34mtibble   \u001b[39m 3.2.1\n",
      "\u001b[32m✔\u001b[39m \u001b[34mlubridate\u001b[39m 1.9.3     \u001b[32m✔\u001b[39m \u001b[34mtidyr    \u001b[39m 1.3.0\n",
      "\u001b[32m✔\u001b[39m \u001b[34mpurrr    \u001b[39m 1.0.2     \n",
      "── \u001b[1mConflicts\u001b[22m ────────────────────────────────────────── tidyverse_conflicts() ──\n",
      "\u001b[31m✖\u001b[39m \u001b[34mdplyr\u001b[39m::\u001b[32mfilter()\u001b[39m masks \u001b[34mstats\u001b[39m::filter()\n",
      "\u001b[31m✖\u001b[39m \u001b[34mdplyr\u001b[39m::\u001b[32mlag()\u001b[39m    masks \u001b[34mstats\u001b[39m::lag()\n",
      "\u001b[36mℹ\u001b[39m Use the conflicted package (\u001b[3m\u001b[34m<http://conflicted.r-lib.org/>\u001b[39m\u001b[23m) to force all conflicts to become errors\n"
     ]
    }
   ],
   "source": [
    "# loading necessary libraries:\n",
    "library(tidyverse)"
   ]
  },
  {
   "cell_type": "code",
   "execution_count": 2,
   "id": "dd6aaf82-b550-429b-a650-38272cbf0bea",
   "metadata": {
    "tags": []
   },
   "outputs": [
    {
     "name": "stderr",
     "output_type": "stream",
     "text": [
      "\u001b[1mRows: \u001b[22m\u001b[34m48895\u001b[39m \u001b[1mColumns: \u001b[22m\u001b[34m16\u001b[39m\n",
      "\u001b[36m──\u001b[39m \u001b[1mColumn specification\u001b[22m \u001b[36m────────────────────────────────────────────────────────\u001b[39m\n",
      "\u001b[1mDelimiter:\u001b[22m \",\"\n",
      "\u001b[31mchr\u001b[39m   (5): name, host_name, neighbourhood_group, neighbourhood, room_type\n",
      "\u001b[32mdbl\u001b[39m  (10): id, host_id, latitude, longitude, price, minimum_nights, number_o...\n",
      "\u001b[34mdate\u001b[39m  (1): last_review\n",
      "\n",
      "\u001b[36mℹ\u001b[39m Use `spec()` to retrieve the full column specification for this data.\n",
      "\u001b[36mℹ\u001b[39m Specify the column types or set `show_col_types = FALSE` to quiet this message.\n"
     ]
    },
    {
     "data": {
      "text/html": [
       "<table class=\"dataframe\">\n",
       "<caption>A tibble: 6 × 16</caption>\n",
       "<thead>\n",
       "\t<tr><th scope=col>id</th><th scope=col>name</th><th scope=col>host_id</th><th scope=col>host_name</th><th scope=col>neighbourhood_group</th><th scope=col>neighbourhood</th><th scope=col>latitude</th><th scope=col>longitude</th><th scope=col>room_type</th><th scope=col>price</th><th scope=col>minimum_nights</th><th scope=col>number_of_reviews</th><th scope=col>last_review</th><th scope=col>reviews_per_month</th><th scope=col>calculated_host_listings_count</th><th scope=col>availability_365</th></tr>\n",
       "\t<tr><th scope=col>&lt;dbl&gt;</th><th scope=col>&lt;chr&gt;</th><th scope=col>&lt;dbl&gt;</th><th scope=col>&lt;chr&gt;</th><th scope=col>&lt;chr&gt;</th><th scope=col>&lt;chr&gt;</th><th scope=col>&lt;dbl&gt;</th><th scope=col>&lt;dbl&gt;</th><th scope=col>&lt;chr&gt;</th><th scope=col>&lt;dbl&gt;</th><th scope=col>&lt;dbl&gt;</th><th scope=col>&lt;dbl&gt;</th><th scope=col>&lt;date&gt;</th><th scope=col>&lt;dbl&gt;</th><th scope=col>&lt;dbl&gt;</th><th scope=col>&lt;dbl&gt;</th></tr>\n",
       "</thead>\n",
       "<tbody>\n",
       "\t<tr><td>2539</td><td><span style=white-space:pre-wrap>Clean &amp; quiet apt home by the park              </span></td><td>2787</td><td><span style=white-space:pre-wrap>John       </span></td><td>Brooklyn </td><td><span style=white-space:pre-wrap>Kensington  </span></td><td>40.64749</td><td>-73.97237</td><td><span style=white-space:pre-wrap>Private room   </span></td><td>149</td><td> 1</td><td><span style=white-space:pre-wrap>  9</span></td><td>2018-10-19</td><td>0.21</td><td>6</td><td>365</td></tr>\n",
       "\t<tr><td>2595</td><td>Skylit Midtown Castle                           </td><td>2845</td><td>Jennifer   </td><td>Manhattan</td><td>Midtown     </td><td>40.75362</td><td>-73.98377</td><td>Entire home/apt</td><td>225</td><td> 1</td><td> 45</td><td>2019-05-21</td><td>0.38</td><td>2</td><td>355</td></tr>\n",
       "\t<tr><td>3647</td><td>THE VILLAGE OF HARLEM....NEW YORK !             </td><td>4632</td><td>Elisabeth  </td><td>Manhattan</td><td>Harlem      </td><td>40.80902</td><td>-73.94190</td><td>Private room   </td><td>150</td><td> 3</td><td>  0</td><td>NA</td><td>  NA</td><td>1</td><td>365</td></tr>\n",
       "\t<tr><td>3831</td><td>Cozy Entire Floor of Brownstone                 </td><td>4869</td><td>LisaRoxanne</td><td>Brooklyn </td><td>Clinton Hill</td><td>40.68514</td><td>-73.95976</td><td>Entire home/apt</td><td> 89</td><td> 1</td><td>270</td><td>2019-07-05</td><td>4.64</td><td>1</td><td>194</td></tr>\n",
       "\t<tr><td>5022</td><td>Entire Apt: Spacious Studio/Loft by central park</td><td>7192</td><td>Laura      </td><td>Manhattan</td><td>East Harlem </td><td>40.79851</td><td>-73.94399</td><td>Entire home/apt</td><td> 80</td><td>10</td><td>  9</td><td>2018-11-19</td><td>0.10</td><td>1</td><td>  0</td></tr>\n",
       "\t<tr><td>5099</td><td>Large Cozy 1 BR Apartment In Midtown East       </td><td>7322</td><td>Chris      </td><td>Manhattan</td><td>Murray Hill </td><td>40.74767</td><td>-73.97500</td><td>Entire home/apt</td><td>200</td><td> 3</td><td> 74</td><td>2019-06-22</td><td>0.59</td><td>1</td><td>129</td></tr>\n",
       "</tbody>\n",
       "</table>\n"
      ],
      "text/latex": [
       "A tibble: 6 × 16\n",
       "\\begin{tabular}{llllllllllllllll}\n",
       " id & name & host\\_id & host\\_name & neighbourhood\\_group & neighbourhood & latitude & longitude & room\\_type & price & minimum\\_nights & number\\_of\\_reviews & last\\_review & reviews\\_per\\_month & calculated\\_host\\_listings\\_count & availability\\_365\\\\\n",
       " <dbl> & <chr> & <dbl> & <chr> & <chr> & <chr> & <dbl> & <dbl> & <chr> & <dbl> & <dbl> & <dbl> & <date> & <dbl> & <dbl> & <dbl>\\\\\n",
       "\\hline\n",
       "\t 2539 & Clean \\& quiet apt home by the park               & 2787 & John        & Brooklyn  & Kensington   & 40.64749 & -73.97237 & Private room    & 149 &  1 &   9 & 2018-10-19 & 0.21 & 6 & 365\\\\\n",
       "\t 2595 & Skylit Midtown Castle                            & 2845 & Jennifer    & Manhattan & Midtown      & 40.75362 & -73.98377 & Entire home/apt & 225 &  1 &  45 & 2019-05-21 & 0.38 & 2 & 355\\\\\n",
       "\t 3647 & THE VILLAGE OF HARLEM....NEW YORK !              & 4632 & Elisabeth   & Manhattan & Harlem       & 40.80902 & -73.94190 & Private room    & 150 &  3 &   0 & NA &   NA & 1 & 365\\\\\n",
       "\t 3831 & Cozy Entire Floor of Brownstone                  & 4869 & LisaRoxanne & Brooklyn  & Clinton Hill & 40.68514 & -73.95976 & Entire home/apt &  89 &  1 & 270 & 2019-07-05 & 4.64 & 1 & 194\\\\\n",
       "\t 5022 & Entire Apt: Spacious Studio/Loft by central park & 7192 & Laura       & Manhattan & East Harlem  & 40.79851 & -73.94399 & Entire home/apt &  80 & 10 &   9 & 2018-11-19 & 0.10 & 1 &   0\\\\\n",
       "\t 5099 & Large Cozy 1 BR Apartment In Midtown East        & 7322 & Chris       & Manhattan & Murray Hill  & 40.74767 & -73.97500 & Entire home/apt & 200 &  3 &  74 & 2019-06-22 & 0.59 & 1 & 129\\\\\n",
       "\\end{tabular}\n"
      ],
      "text/markdown": [
       "\n",
       "A tibble: 6 × 16\n",
       "\n",
       "| id &lt;dbl&gt; | name &lt;chr&gt; | host_id &lt;dbl&gt; | host_name &lt;chr&gt; | neighbourhood_group &lt;chr&gt; | neighbourhood &lt;chr&gt; | latitude &lt;dbl&gt; | longitude &lt;dbl&gt; | room_type &lt;chr&gt; | price &lt;dbl&gt; | minimum_nights &lt;dbl&gt; | number_of_reviews &lt;dbl&gt; | last_review &lt;date&gt; | reviews_per_month &lt;dbl&gt; | calculated_host_listings_count &lt;dbl&gt; | availability_365 &lt;dbl&gt; |\n",
       "|---|---|---|---|---|---|---|---|---|---|---|---|---|---|---|---|\n",
       "| 2539 | Clean &amp; quiet apt home by the park               | 2787 | John        | Brooklyn  | Kensington   | 40.64749 | -73.97237 | Private room    | 149 |  1 |   9 | 2018-10-19 | 0.21 | 6 | 365 |\n",
       "| 2595 | Skylit Midtown Castle                            | 2845 | Jennifer    | Manhattan | Midtown      | 40.75362 | -73.98377 | Entire home/apt | 225 |  1 |  45 | 2019-05-21 | 0.38 | 2 | 355 |\n",
       "| 3647 | THE VILLAGE OF HARLEM....NEW YORK !              | 4632 | Elisabeth   | Manhattan | Harlem       | 40.80902 | -73.94190 | Private room    | 150 |  3 |   0 | NA |   NA | 1 | 365 |\n",
       "| 3831 | Cozy Entire Floor of Brownstone                  | 4869 | LisaRoxanne | Brooklyn  | Clinton Hill | 40.68514 | -73.95976 | Entire home/apt |  89 |  1 | 270 | 2019-07-05 | 4.64 | 1 | 194 |\n",
       "| 5022 | Entire Apt: Spacious Studio/Loft by central park | 7192 | Laura       | Manhattan | East Harlem  | 40.79851 | -73.94399 | Entire home/apt |  80 | 10 |   9 | 2018-11-19 | 0.10 | 1 |   0 |\n",
       "| 5099 | Large Cozy 1 BR Apartment In Midtown East        | 7322 | Chris       | Manhattan | Murray Hill  | 40.74767 | -73.97500 | Entire home/apt | 200 |  3 |  74 | 2019-06-22 | 0.59 | 1 | 129 |\n",
       "\n"
      ],
      "text/plain": [
       "  id   name                                             host_id host_name  \n",
       "1 2539 Clean & quiet apt home by the park               2787    John       \n",
       "2 2595 Skylit Midtown Castle                            2845    Jennifer   \n",
       "3 3647 THE VILLAGE OF HARLEM....NEW YORK !              4632    Elisabeth  \n",
       "4 3831 Cozy Entire Floor of Brownstone                  4869    LisaRoxanne\n",
       "5 5022 Entire Apt: Spacious Studio/Loft by central park 7192    Laura      \n",
       "6 5099 Large Cozy 1 BR Apartment In Midtown East        7322    Chris      \n",
       "  neighbourhood_group neighbourhood latitude longitude room_type       price\n",
       "1 Brooklyn            Kensington    40.64749 -73.97237 Private room    149  \n",
       "2 Manhattan           Midtown       40.75362 -73.98377 Entire home/apt 225  \n",
       "3 Manhattan           Harlem        40.80902 -73.94190 Private room    150  \n",
       "4 Brooklyn            Clinton Hill  40.68514 -73.95976 Entire home/apt  89  \n",
       "5 Manhattan           East Harlem   40.79851 -73.94399 Entire home/apt  80  \n",
       "6 Manhattan           Murray Hill   40.74767 -73.97500 Entire home/apt 200  \n",
       "  minimum_nights number_of_reviews last_review reviews_per_month\n",
       "1  1               9               2018-10-19  0.21             \n",
       "2  1              45               2019-05-21  0.38             \n",
       "3  3               0               <NA>          NA             \n",
       "4  1             270               2019-07-05  4.64             \n",
       "5 10               9               2018-11-19  0.10             \n",
       "6  3              74               2019-06-22  0.59             \n",
       "  calculated_host_listings_count availability_365\n",
       "1 6                              365             \n",
       "2 2                              355             \n",
       "3 1                              365             \n",
       "4 1                              194             \n",
       "5 1                                0             \n",
       "6 1                              129             "
      ]
     },
     "metadata": {},
     "output_type": "display_data"
    }
   ],
   "source": [
    "# Reading in the data:\n",
    "data <- read_csv('https://raw.githubusercontent.com/samnthorne/FinalProject/main/data/AB_NYC_2019.csv')\n",
    "head(data)"
   ]
  },
  {
   "cell_type": "markdown",
   "id": "21b22ee4-4794-499c-b7b6-cfac808e37e7",
   "metadata": {},
   "source": [
    "## Data Cleaning\n",
    "\n",
    "### Dropping attributes:\n",
    "\n",
    "As discussed in my Assignment1 I am going to be dropping columns `id`, `neighbourhood`, `latitude`, `longitude`, `number_of_reviews`, `last_review`, and `reviews_per_month`. \n",
    "- The `id` column does not have any semantic meaning so I chose to drop it as it should not alter my ability to predict an appropriate AirBnb price.\n",
    "- The columns `neighbourhood`, `latitude`, and `longitude` all have to do with the location of the Bnb. I am leaving the column `neighbourhood_group` to represent the location of the Bnb and dropping these columns to avoid multi-collinearity in the model.\n",
    "- The columns `number_of_reviews`, `last_review`, and `reviews_per_month` all have to do with reviews each bnb has recieved. I decided to drop these columns as this relates to the number of reviews only; there is no sentiment of these reviews represented in this data. People have a tendency to leave reviews when they need to vent or if they are giving praise after a positive experience. These two extremes are represented in the same way in these review columns and might nullify the models predictions.\n",
    "\n",
    "Additionally, I hope to test if the attribute `name` benefits the predictions or not. I will complete this analysis when building the model for Assignment 3. I am unsure about how this attribute is going to effect the model because it is a text column. I am unsure how it is going to perform without natural language processing."
   ]
  },
  {
   "cell_type": "code",
   "execution_count": 4,
   "id": "1f9e9cd4-f85d-4017-98a0-8cfcce0354a9",
   "metadata": {
    "tags": []
   },
   "outputs": [
    {
     "data": {
      "text/html": [
       "<table class=\"dataframe\">\n",
       "<caption>A tibble: 6 × 9</caption>\n",
       "<thead>\n",
       "\t<tr><th scope=col>name</th><th scope=col>host_id</th><th scope=col>host_name</th><th scope=col>neighbourhood_group</th><th scope=col>room_type</th><th scope=col>price</th><th scope=col>minimum_nights</th><th scope=col>calculated_host_listings_count</th><th scope=col>availability_365</th></tr>\n",
       "\t<tr><th scope=col>&lt;chr&gt;</th><th scope=col>&lt;dbl&gt;</th><th scope=col>&lt;chr&gt;</th><th scope=col>&lt;chr&gt;</th><th scope=col>&lt;chr&gt;</th><th scope=col>&lt;dbl&gt;</th><th scope=col>&lt;dbl&gt;</th><th scope=col>&lt;dbl&gt;</th><th scope=col>&lt;dbl&gt;</th></tr>\n",
       "</thead>\n",
       "<tbody>\n",
       "\t<tr><td><span style=white-space:pre-wrap>Clean &amp; quiet apt home by the park              </span></td><td>2787</td><td><span style=white-space:pre-wrap>John       </span></td><td>Brooklyn </td><td><span style=white-space:pre-wrap>Private room   </span></td><td>149</td><td> 1</td><td>6</td><td>365</td></tr>\n",
       "\t<tr><td>Skylit Midtown Castle                           </td><td>2845</td><td>Jennifer   </td><td>Manhattan</td><td>Entire home/apt</td><td>225</td><td> 1</td><td>2</td><td>355</td></tr>\n",
       "\t<tr><td>THE VILLAGE OF HARLEM....NEW YORK !             </td><td>4632</td><td>Elisabeth  </td><td>Manhattan</td><td>Private room   </td><td>150</td><td> 3</td><td>1</td><td>365</td></tr>\n",
       "\t<tr><td>Cozy Entire Floor of Brownstone                 </td><td>4869</td><td>LisaRoxanne</td><td>Brooklyn </td><td>Entire home/apt</td><td> 89</td><td> 1</td><td>1</td><td>194</td></tr>\n",
       "\t<tr><td>Entire Apt: Spacious Studio/Loft by central park</td><td>7192</td><td>Laura      </td><td>Manhattan</td><td>Entire home/apt</td><td> 80</td><td>10</td><td>1</td><td>  0</td></tr>\n",
       "\t<tr><td>Large Cozy 1 BR Apartment In Midtown East       </td><td>7322</td><td>Chris      </td><td>Manhattan</td><td>Entire home/apt</td><td>200</td><td> 3</td><td>1</td><td>129</td></tr>\n",
       "</tbody>\n",
       "</table>\n"
      ],
      "text/latex": [
       "A tibble: 6 × 9\n",
       "\\begin{tabular}{lllllllll}\n",
       " name & host\\_id & host\\_name & neighbourhood\\_group & room\\_type & price & minimum\\_nights & calculated\\_host\\_listings\\_count & availability\\_365\\\\\n",
       " <chr> & <dbl> & <chr> & <chr> & <chr> & <dbl> & <dbl> & <dbl> & <dbl>\\\\\n",
       "\\hline\n",
       "\t Clean \\& quiet apt home by the park               & 2787 & John        & Brooklyn  & Private room    & 149 &  1 & 6 & 365\\\\\n",
       "\t Skylit Midtown Castle                            & 2845 & Jennifer    & Manhattan & Entire home/apt & 225 &  1 & 2 & 355\\\\\n",
       "\t THE VILLAGE OF HARLEM....NEW YORK !              & 4632 & Elisabeth   & Manhattan & Private room    & 150 &  3 & 1 & 365\\\\\n",
       "\t Cozy Entire Floor of Brownstone                  & 4869 & LisaRoxanne & Brooklyn  & Entire home/apt &  89 &  1 & 1 & 194\\\\\n",
       "\t Entire Apt: Spacious Studio/Loft by central park & 7192 & Laura       & Manhattan & Entire home/apt &  80 & 10 & 1 &   0\\\\\n",
       "\t Large Cozy 1 BR Apartment In Midtown East        & 7322 & Chris       & Manhattan & Entire home/apt & 200 &  3 & 1 & 129\\\\\n",
       "\\end{tabular}\n"
      ],
      "text/markdown": [
       "\n",
       "A tibble: 6 × 9\n",
       "\n",
       "| name &lt;chr&gt; | host_id &lt;dbl&gt; | host_name &lt;chr&gt; | neighbourhood_group &lt;chr&gt; | room_type &lt;chr&gt; | price &lt;dbl&gt; | minimum_nights &lt;dbl&gt; | calculated_host_listings_count &lt;dbl&gt; | availability_365 &lt;dbl&gt; |\n",
       "|---|---|---|---|---|---|---|---|---|\n",
       "| Clean &amp; quiet apt home by the park               | 2787 | John        | Brooklyn  | Private room    | 149 |  1 | 6 | 365 |\n",
       "| Skylit Midtown Castle                            | 2845 | Jennifer    | Manhattan | Entire home/apt | 225 |  1 | 2 | 355 |\n",
       "| THE VILLAGE OF HARLEM....NEW YORK !              | 4632 | Elisabeth   | Manhattan | Private room    | 150 |  3 | 1 | 365 |\n",
       "| Cozy Entire Floor of Brownstone                  | 4869 | LisaRoxanne | Brooklyn  | Entire home/apt |  89 |  1 | 1 | 194 |\n",
       "| Entire Apt: Spacious Studio/Loft by central park | 7192 | Laura       | Manhattan | Entire home/apt |  80 | 10 | 1 |   0 |\n",
       "| Large Cozy 1 BR Apartment In Midtown East        | 7322 | Chris       | Manhattan | Entire home/apt | 200 |  3 | 1 | 129 |\n",
       "\n"
      ],
      "text/plain": [
       "  name                                             host_id host_name  \n",
       "1 Clean & quiet apt home by the park               2787    John       \n",
       "2 Skylit Midtown Castle                            2845    Jennifer   \n",
       "3 THE VILLAGE OF HARLEM....NEW YORK !              4632    Elisabeth  \n",
       "4 Cozy Entire Floor of Brownstone                  4869    LisaRoxanne\n",
       "5 Entire Apt: Spacious Studio/Loft by central park 7192    Laura      \n",
       "6 Large Cozy 1 BR Apartment In Midtown East        7322    Chris      \n",
       "  neighbourhood_group room_type       price minimum_nights\n",
       "1 Brooklyn            Private room    149    1            \n",
       "2 Manhattan           Entire home/apt 225    1            \n",
       "3 Manhattan           Private room    150    3            \n",
       "4 Brooklyn            Entire home/apt  89    1            \n",
       "5 Manhattan           Entire home/apt  80   10            \n",
       "6 Manhattan           Entire home/apt 200    3            \n",
       "  calculated_host_listings_count availability_365\n",
       "1 6                              365             \n",
       "2 2                              355             \n",
       "3 1                              365             \n",
       "4 1                              194             \n",
       "5 1                                0             \n",
       "6 1                              129             "
      ]
     },
     "metadata": {},
     "output_type": "display_data"
    }
   ],
   "source": [
    "# dropping columns I am not using:\n",
    "\n",
    "small_data <- data %>%\n",
    "    select(-id, -neighbourhood, -latitude, -longitude, -number_of_reviews, -last_review, -reviews_per_month)\n",
    "head(small_data)"
   ]
  },
  {
   "cell_type": "code",
   "execution_count": null,
   "id": "0fb20185-0249-453e-b0ff-1a0714641eeb",
   "metadata": {},
   "outputs": [],
   "source": [
    "# find NA values and drop those columns?"
   ]
  }
 ],
 "metadata": {
  "kernelspec": {
   "display_name": "R",
   "language": "R",
   "name": "ir"
  },
  "language_info": {
   "codemirror_mode": "r",
   "file_extension": ".r",
   "mimetype": "text/x-r-source",
   "name": "R",
   "pygments_lexer": "r",
   "version": "4.2.3"
  }
 },
 "nbformat": 4,
 "nbformat_minor": 5
}

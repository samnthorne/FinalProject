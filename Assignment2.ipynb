{
 "cells": [
  {
   "cell_type": "markdown",
   "id": "7900687a-49d6-4deb-8a0c-ed23e8b506d3",
   "metadata": {},
   "source": [
    "# STAT 301: Individual Assignment 2\n",
    "\n",
    "**Group:** 26\n",
    "\n",
    "**Group member:** Sam Thorne 83910448"
   ]
  }
 ],
 "metadata": {
  "kernelspec": {
   "display_name": "R",
   "language": "R",
   "name": "ir"
  },
  "language_info": {
   "codemirror_mode": "r",
   "file_extension": ".r",
   "mimetype": "text/x-r-source",
   "name": "R",
   "pygments_lexer": "r",
   "version": "4.2.3"
  }
 },
 "nbformat": 4,
 "nbformat_minor": 5
}
